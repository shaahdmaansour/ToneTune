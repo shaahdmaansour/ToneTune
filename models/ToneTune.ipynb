{
  "nbformat": 4,
  "nbformat_minor": 0,
  "metadata": {
    "colab": {
      "provenance": []
    },
    "kernelspec": {
      "name": "python3",
      "display_name": "Python 3"
    },
    "language_info": {
      "name": "python"
    }
  },
  "cells": [
    {
      "cell_type": "markdown",
      "source": [
        "# 1️⃣ **Text Input Section**"
      ],
      "metadata": {
        "id": "sP4Hy2P9zwwU"
      }
    },
    {
      "cell_type": "markdown",
      "source": [
        "github repo: https://github.com/shaahdmaansour/TuneTone.git"
      ],
      "metadata": {
        "id": "I045_RVWHK-l"
      }
    },
    {
      "cell_type": "code",
      "source": [
        "print(\"📄 Interactive Text Analysis Tool\\n\")\n",
        "user_text = input(\"✏️ Enter your text for analysis:\\n\\n\")\n",
        "print(f\"\\n🧾 Word count: {len(user_text.split())}, Character count: {len(user_text)}\")"
      ],
      "metadata": {
        "colab": {
          "base_uri": "https://localhost:8080/"
        },
        "id": "1oyxUZV5zNPc",
        "outputId": "47e34a0d-acf7-4048-eda3-7cbc9f7819f0"
      },
      "execution_count": 3,
      "outputs": [
        {
          "output_type": "stream",
          "name": "stdout",
          "text": [
            "📄 Interactive Text Analysis Tool\n",
            "\n",
            "✏️ Enter your text for analysis:\n",
            "\n",
            "hey this is shahd's project\n",
            "\n",
            "🧾 Word count: 5, Character count: 27\n"
          ]
        }
      ]
    },
    {
      "cell_type": "markdown",
      "source": [
        "# 2️⃣ **Grammar & Style Correction**"
      ],
      "metadata": {
        "id": "WJjW8LXp0RDp"
      }
    },
    {
      "cell_type": "code",
      "source": [
        "from transformers import AutoTokenizer, AutoModelForSeq2SeqLM\n",
        "\n",
        "model_name = \"vennify/t5-base-grammar-correction\"\n",
        "tokenizer_gc = AutoTokenizer.from_pretrained(model_name)\n",
        "model_gc = AutoModelForSeq2SeqLM.from_pretrained(model_name)\n",
        "\n",
        "def correct_grammar_t5(text):\n",
        "    input_text = \"gec: \" + text\n",
        "    inputs = tokenizer_gc.encode(input_text, return_tensors=\"pt\", max_length=512, truncation=True)\n",
        "    outputs = model_gc.generate(inputs, max_length=512, num_beams=5, early_stopping=True)\n",
        "    return tokenizer_gc.decode(outputs[0], skip_special_tokens=True)\n",
        "\n",
        "corrected_text = correct_grammar_t5(user_text)\n",
        "print(\"\\n✅ Corrected Version:\\n\", corrected_text)"
      ],
      "metadata": {
        "colab": {
          "base_uri": "https://localhost:8080/"
        },
        "id": "c0rPczhr0AiY",
        "outputId": "c1110866-13d0-4349-ac0d-0663d1c07ed6"
      },
      "execution_count": 4,
      "outputs": [
        {
          "output_type": "stream",
          "name": "stderr",
          "text": [
            "/usr/local/lib/python3.11/dist-packages/huggingface_hub/utils/_auth.py:94: UserWarning: \n",
            "The secret `HF_TOKEN` does not exist in your Colab secrets.\n",
            "To authenticate with the Hugging Face Hub, create a token in your settings tab (https://huggingface.co/settings/tokens), set it as secret in your Google Colab and restart your session.\n",
            "You will be able to reuse this secret in all of your notebooks.\n",
            "Please note that authentication is recommended but still optional to access public models or datasets.\n",
            "  warnings.warn(\n"
          ]
        },
        {
          "output_type": "stream",
          "name": "stdout",
          "text": [
            "\n",
            "✅ Corrected Version:\n",
            " Hey, this is shahd's project.\n"
          ]
        }
      ]
    },
    {
      "cell_type": "markdown",
      "source": [
        "# 3️⃣ **Sentiment & Tone Detection**"
      ],
      "metadata": {
        "id": "9D-B7Jo80Zm2"
      }
    },
    {
      "cell_type": "code",
      "source": [
        "from transformers import AutoTokenizer, AutoModelForSequenceClassification\n",
        "import torch\n",
        "import numpy as np\n",
        "\n",
        "model_id = \"cardiffnlp/twitter-roberta-base-sentiment\"\n",
        "tokenizer_sent = AutoTokenizer.from_pretrained(model_id)\n",
        "model_sent = AutoModelForSequenceClassification.from_pretrained(model_id)\n",
        "\n",
        "def detect_sentiment(text):\n",
        "    encoded_input = tokenizer_sent(text, return_tensors='pt', truncation=True)\n",
        "    output = model_sent(**encoded_input)\n",
        "    scores = torch.nn.functional.softmax(output.logits, dim=1).detach().numpy()[0]\n",
        "    labels = ['Negative', 'Neutral', 'Positive']\n",
        "    result = dict(zip(labels, scores))\n",
        "    return max(result, key=result.get), result\n",
        "\n",
        "label, probs = detect_sentiment(user_text)\n",
        "print(f\"\\n🎭 Sentiment: {label}\")\n",
        "print(\"📊 Scores:\", probs)"
      ],
      "metadata": {
        "colab": {
          "base_uri": "https://localhost:8080/"
        },
        "id": "Z3tUKDTa0PhV",
        "outputId": "4194ab87-8d48-4856-a066-11f9ec710a70"
      },
      "execution_count": 5,
      "outputs": [
        {
          "output_type": "stream",
          "name": "stderr",
          "text": [
            "Asking to truncate to max_length but no maximum length is provided and the model has no predefined maximum length. Default to no truncation.\n"
          ]
        },
        {
          "output_type": "stream",
          "name": "stdout",
          "text": [
            "\n",
            "🎭 Sentiment: Neutral\n",
            "📊 Scores: {'Negative': np.float32(0.026425052), 'Neutral': np.float32(0.8663107), 'Positive': np.float32(0.10726427)}\n"
          ]
        }
      ]
    },
    {
      "cell_type": "markdown",
      "source": [
        "# 4️⃣ **Readability Scoring**"
      ],
      "metadata": {
        "id": "cc-KIhgd0jzv"
      }
    },
    {
      "cell_type": "code",
      "source": [
        "import textstat\n",
        "\n",
        "print(\"\\n📚 Readability Analysis:\")\n",
        "print(\"Flesch Reading Ease:\", textstat.flesch_reading_ease(user_text))\n",
        "print(\"Grade Level:\", textstat.text_standard(user_text))\n",
        "print(\"Difficult Words:\", textstat.difficult_words(user_text))"
      ],
      "metadata": {
        "colab": {
          "base_uri": "https://localhost:8080/"
        },
        "id": "BAfFtvvn0hdT",
        "outputId": "3270c679-d610-4cac-85bf-e0ec8f6bd0e4"
      },
      "execution_count": 6,
      "outputs": [
        {
          "output_type": "stream",
          "name": "stdout",
          "text": [
            "\n",
            "📚 Readability Analysis:\n",
            "Flesch Reading Ease: 100.24000000000002\n",
            "Grade Level: 1st and 2nd grade\n",
            "Difficult Words: 1\n"
          ]
        }
      ]
    },
    {
      "cell_type": "markdown",
      "source": [
        "# 5️⃣ **Semantic Plagiarism Detection**"
      ],
      "metadata": {
        "id": "6I64fKw80v58"
      }
    },
    {
      "cell_type": "code",
      "source": [
        "from sentence_transformers import SentenceTransformer, util\n",
        "\n",
        "# Sample source texts (can be extended to 100s of sources from file)\n",
        "known_sources = [\n",
        "    \"Machine learning is a subset of artificial intelligence that enables computers to learn from data.\",\n",
        "    \"Global warming refers to the long-term rise in the average temperature of the Earth's climate system.\",\n",
        "    \"The internet has revolutionized communication by allowing instant sharing of information across the world.\"\n",
        "]\n",
        "\n",
        "model_semantic = SentenceTransformer('paraphrase-MiniLM-L6-v2')\n",
        "\n",
        "# Compare each known sentence with user text\n",
        "user_emb = model_semantic.encode(user_text, convert_to_tensor=True)\n",
        "similarities = [util.pytorch_cos_sim(user_emb, model_semantic.encode(src, convert_to_tensor=True)).item() for src in known_sources]\n",
        "\n",
        "print(\"\\n🔍 Plagiarism Similarity Check (Semantic):\")\n",
        "for i, sim in enumerate(similarities):\n",
        "    print(f\"Source {i+1}: Similarity Score = {sim:.2f}\")\n",
        "    if sim > 0.8:\n",
        "        print(\"⚠️ Likely Copied or Paraphrased\\n\")\n",
        "    elif sim > 0.5:\n",
        "        print(\"⚠️ Possibly Referenced\\n\")\n",
        "    else:\n",
        "        print(\"✅ Low similarity\\n\")"
      ],
      "metadata": {
        "colab": {
          "base_uri": "https://localhost:8080/"
        },
        "id": "Z02mPnYx04Y2",
        "outputId": "6ae08823-da4f-4f4a-cf6f-f0236d2e4666"
      },
      "execution_count": 7,
      "outputs": [
        {
          "output_type": "stream",
          "name": "stdout",
          "text": [
            "\n",
            "🔍 Plagiarism Similarity Check (Semantic):\n",
            "Source 1: Similarity Score = 0.03\n",
            "✅ Low similarity\n",
            "\n",
            "Source 2: Similarity Score = 0.03\n",
            "✅ Low similarity\n",
            "\n",
            "Source 3: Similarity Score = 0.09\n",
            "✅ Low similarity\n",
            "\n"
          ]
        }
      ]
    },
    {
      "cell_type": "markdown",
      "source": [
        "# 6️⃣ **Citation Detection**"
      ],
      "metadata": {
        "id": "p5_zv0pP07sj"
      }
    },
    {
      "cell_type": "code",
      "source": [
        "import re\n",
        "\n",
        "def detect_citations(text):\n",
        "    patterns = [r\"\\baccording to\\b\", r\"\\bstudies show\\b\", r\"\\bwas found that\\b\", r\"\\bevidence\\b\", r\"\\bin a study\\b\"]\n",
        "    sentences = re.split(r'(?<=[.!?])\\s+', text)\n",
        "    return [s for s in sentences if any(re.search(p, s, re.IGNORECASE) for p in patterns)]\n",
        "\n",
        "print(\"\\n📎 Citation Needed:\")\n",
        "for sent in detect_citations(user_text):\n",
        "    print(\"🔖\", sent)"
      ],
      "metadata": {
        "colab": {
          "base_uri": "https://localhost:8080/"
        },
        "id": "J1lriTcO06pO",
        "outputId": "a456b1cd-e25b-4a7d-e2bc-f92492dd44e5"
      },
      "execution_count": 8,
      "outputs": [
        {
          "output_type": "stream",
          "name": "stdout",
          "text": [
            "\n",
            "📎 Citation Needed:\n"
          ]
        }
      ]
    },
    {
      "cell_type": "markdown",
      "source": [
        "# 7️⃣ **Text-to-Speech**"
      ],
      "metadata": {
        "id": "RAAV8CWJ1B5y"
      }
    },
    {
      "cell_type": "code",
      "source": [
        "from gtts import gTTS\n",
        "from IPython.display import Audio\n",
        "\n",
        "tts = gTTS(corrected_text)\n",
        "tts.save(\"corrected_output.mp3\")\n",
        "print(\"\\n🔊 Playing corrected version aloud:\")\n",
        "Audio(\"corrected_output.mp3\")"
      ],
      "metadata": {
        "colab": {
          "base_uri": "https://localhost:8080/",
          "height": 110
        },
        "id": "YiU3GyU51Dm2",
        "outputId": "f9253fbe-62b5-4da8-f1c9-e567c484f339"
      },
      "execution_count": 9,
      "outputs": [
        {
          "output_type": "stream",
          "name": "stdout",
          "text": [
            "\n",
            "🔊 Playing corrected version aloud:\n"
          ]
        },
        {
          "output_type": "execute_result",
          "data": {
            "text/plain": [
              "<IPython.lib.display.Audio object>"
            ],
            "text/html": [
              "\n",
              "                <audio  controls=\"controls\" >\n",
              "                    <source src=\"data:audio/mpeg;base64,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\" type=\"audio/mpeg\" />\n",
              "                    Your browser does not support the audio element.\n",
              "                </audio>\n",
              "              "
            ]
          },
          "metadata": {},
          "execution_count": 9
        }
      ]
    },
    {
      "cell_type": "markdown",
      "source": [
        "# 8️⃣ **Visualizing Document Flow**"
      ],
      "metadata": {
        "id": "4CDgr1HV2Frm"
      }
    },
    {
      "cell_type": "code",
      "source": [
        "import networkx as nx\n",
        "import matplotlib.pyplot as plt\n",
        "import re\n",
        "import textwrap\n",
        "\n",
        "def visualize_fallback_flow(text, max_label_len=60):\n",
        "    sentences = re.split(r'(?<=[.!?])\\s+', text.strip())\n",
        "    G = nx.DiGraph()\n",
        "\n",
        "    for i, sent in enumerate(sentences):\n",
        "        if sent.strip():\n",
        "            label = textwrap.fill(sent.strip(), width=max_label_len)\n",
        "            G.add_node(i, label=label, size=len(sent))\n",
        "            if i > 0:\n",
        "                G.add_edge(i-1, i)\n",
        "\n",
        "    pos = nx.spring_layout(G, k=0.8, iterations=100)\n",
        "    labels = nx.get_node_attributes(G, 'label')\n",
        "    sizes = [1000 + G.nodes[n]['size']*10 for n in G.nodes]\n",
        "\n",
        "    plt.figure(figsize=(14, 10))\n",
        "    nx.draw(\n",
        "        G, pos,\n",
        "        labels=labels,\n",
        "        with_labels=True,\n",
        "        node_size=sizes,\n",
        "        node_color='lightblue',\n",
        "        edge_color='gray',\n",
        "        font_size=10,\n",
        "        arrows=True\n",
        "    )\n",
        "    plt.title(\"📄 Document Sentence Flow (Fallback Layout)\", fontsize=16)\n",
        "    plt.axis('off')\n",
        "    plt.show()\n",
        "\n",
        "# Call it\n",
        "visualize_fallback_flow(corrected_text)"
      ],
      "metadata": {
        "colab": {
          "base_uri": "https://localhost:8080/",
          "height": 1000
        },
        "id": "XSR2U-JuHqYq",
        "outputId": "79bcf713-2602-462a-b595-62bf986ca3f2"
      },
      "execution_count": 17,
      "outputs": [
        {
          "output_type": "stream",
          "name": "stderr",
          "text": [
            "/usr/local/lib/python3.11/dist-packages/IPython/core/pylabtools.py:151: UserWarning: Glyph 128196 (\\N{PAGE FACING UP}) missing from font(s) DejaVu Sans.\n",
            "  fig.canvas.print_figure(bytes_io, **kw)\n"
          ]
        },
        {
          "output_type": "display_data",
          "data": {
            "text/plain": [
              "<Figure size 1400x1000 with 1 Axes>"
            ],
            "image/png": "[encoded data removed]"
          },
          "metadata": {}
        }
      ]
    }
  ]
}